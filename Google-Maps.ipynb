{
 "cells": [
  {
   "cell_type": "code",
   "execution_count": 1,
   "id": "ce306aa6",
   "metadata": {},
   "outputs": [],
   "source": [
    "import googlemaps\n",
    "import pandas as pd"
   ]
  },
  {
   "cell_type": "code",
   "execution_count": 2,
   "id": "01535539",
   "metadata": {},
   "outputs": [],
   "source": [
    "API_KEY = 'USE-YOUR-KEY'"
   ]
  },
  {
   "cell_type": "markdown",
   "id": "e06f1350",
   "metadata": {},
   "source": [
    "## Extracting the closest transit spots within 2000 meters"
   ]
  },
  {
   "cell_type": "code",
   "execution_count": 3,
   "id": "59570325",
   "metadata": {},
   "outputs": [],
   "source": [
    "# Initialize the Google Maps client\n",
    "gmaps = googlemaps.Client(key=API_KEY)\n",
    "\n",
    "# Example location\n",
    "location = (33.7490, -84.3880)\n",
    "\n",
    "results = gmaps.places_nearby(location=location, radius=2000, type='transit_station')\n",
    "data = []\n",
    "\n",
    "# Loop through each place and calculate driving distance\n",
    "for place in results['results']:\n",
    "    name = place['name']\n",
    "    address = place.get('vicinity', 'Address not available')\n",
    "    latitude = place['geometry']['location']['lat']\n",
    "    longitude = place['geometry']['location']['lng']\n",
    "    \n",
    "    # Get directions from home_location to the transit stop\n",
    "    directions = gmaps.directions(location, (latitude, longitude), mode=\"walking\")\n",
    "    \n",
    "    # Get the distance from the directions response\n",
    "    if directions:\n",
    "        distance_meters = directions[0]['legs'][0]['distance']['value']\n",
    "        distance_miles = distance_meters / 1609.34  # Convert meters to miles\n",
    "    else:\n",
    "        distance_miles = None\n",
    "    \n",
    "    data.append([name, address, latitude, longitude, distance_miles])\n",
    "\n",
    "df = pd.DataFrame(data, columns=['Name', 'Address', 'Latitude', 'Longitude', 'Walking_Distance_miles'])\n",
    "df.to_csv(\"transit_stops_with_walking_distance_miles.csv\", index=False)\n"
   ]
  },
  {
   "cell_type": "code",
   "execution_count": 4,
   "id": "57af0820",
   "metadata": {},
   "outputs": [],
   "source": [
    "#5 different potential rental houses\n",
    "houses = [\n",
    "    {\"id\": 1, \"location\": (33.7490, -84.3880)}, \n",
    "    {\"id\": 2, \"location\": (34.0375, -84.5751)},\n",
    "    {\"id\": 3, \"location\": (34.7530, -84.3870)}, \n",
    "    {\"id\": 4, \"location\": (33.7550, -84.3890)},\n",
    "    {\"id\": 5, \"location\": (33.7570, -85.3860)} \n",
    "]"
   ]
  },
  {
   "cell_type": "code",
   "execution_count": 5,
   "id": "395bbcc2",
   "metadata": {},
   "outputs": [
    {
     "data": {
      "text/plain": [
       "[{'id': 26, 'location': (37.782777, -122.204223)},\n",
       " {'id': 6, 'location': (37.752411, -122.164314)},\n",
       " {'id': 14, 'location': (37.826687, -122.283587)},\n",
       " {'id': 56, 'location': (37.81102, -122.276154)},\n",
       " {'id': 15, 'location': (37.78373, -122.230492)},\n",
       " {'id': 10, 'location': (37.813896, -122.267265)},\n",
       " {'id': 17, 'location': (37.796753, -122.277016)},\n",
       " {'id': 20, 'location': (37.796753, -122.277016)},\n",
       " {'id': 59, 'location': (37.875832, -122.266228)},\n",
       " {'id': 7, 'location': (37.796753, -122.277016)},\n",
       " {'id': 8, 'location': (37.796753, -122.277016)},\n",
       " {'id': 52, 'location': (37.767633, -122.196906)},\n",
       " {'id': 4, 'location': (37.796753, -122.277016)},\n",
       " {'id': 12, 'location': (37.796753, -122.277016)},\n",
       " {'id': 54, 'location': (37.734421, -122.158687)},\n",
       " {'id': 65, 'location': (37.813146, -122.242996)},\n",
       " {'id': 13, 'location': (37.826111, -122.251816)},\n",
       " {'id': 5, 'location': (37.796753, -122.277016)},\n",
       " {'id': 47, 'location': (37.837816, -122.303922)},\n",
       " {'id': 94, 'location': (37.575729, -121.975235)},\n",
       " {'id': 55, 'location': (37.813934, -122.273308)},\n",
       " {'id': 9, 'location': (37.772205, -122.209259)},\n",
       " {'id': 74, 'location': (37.837802, -122.307015)},\n",
       " {'id': 16, 'location': (37.796753, -122.277016)},\n",
       " {'id': 0, 'location': (37.650475, -122.081062)},\n",
       " {'id': 58, 'location': (37.793293, -122.244705)},\n",
       " {'id': 31, 'location': (37.839011, -122.30454)},\n",
       " {'id': 57, 'location': (37.802689, -122.279007)},\n",
       " {'id': 28, 'location': (37.839011, -122.30454)},\n",
       " {'id': 79, 'location': (37.710706, -121.806932)},\n",
       " {'id': 19, 'location': (37.826111, -122.251816)},\n",
       " {'id': 18, 'location': (37.641502, -122.073715)},\n",
       " {'id': 35, 'location': (37.801067, -122.227219)},\n",
       " {'id': 39, 'location': (37.813331, -122.249809)},\n",
       " {'id': 33, 'location': (37.821638, -122.252501)},\n",
       " {'id': 2, 'location': (37.862446, -122.276894)},\n",
       " {'id': 77, 'location': (37.694093, -122.075252)},\n",
       " {'id': 46, 'location': (37.841181, -122.296347)},\n",
       " {'id': 25, 'location': (37.867485, -122.294657)},\n",
       " {'id': 24, 'location': (37.841181, -122.296347)},\n",
       " {'id': 80, 'location': (37.814077, -122.25024)},\n",
       " {'id': 60, 'location': (37.802123, -122.243672)},\n",
       " {'id': 11, 'location': (37.793865, -122.242531)},\n",
       " {'id': 27, 'location': (37.872193, -122.276722)},\n",
       " {'id': 71, 'location': (37.557901, -121.986672)},\n",
       " {'id': 70, 'location': (37.646636, -122.079978)},\n",
       " {'id': 96, 'location': (37.552472, -122.013412)},\n",
       " {'id': 66, 'location': (37.65792, -121.872985)},\n",
       " {'id': 88, 'location': (37.562987, -122.047976)},\n",
       " {'id': 73, 'location': (37.69466, -122.079559)},\n",
       " {'id': 67, 'location': (37.769101, -122.248871)},\n",
       " {'id': 38, 'location': (37.800922, -122.226574)},\n",
       " {'id': 84, 'location': (37.677586, -122.111518)},\n",
       " {'id': 50, 'location': (37.716375, -121.937533)},\n",
       " {'id': 89, 'location': (37.717197, -121.913386)},\n",
       " {'id': 78, 'location': (37.695841, -121.892336)},\n",
       " {'id': 72, 'location': (37.892223, -122.300828)},\n",
       " {'id': 29, 'location': (37.752775, -122.182014)},\n",
       " {'id': 87, 'location': (37.750473, -122.166504)},\n",
       " {'id': 61, 'location': (37.750021, -122.154568)},\n",
       " {'id': 76, 'location': (37.771365, -122.163622)},\n",
       " {'id': 48, 'location': (37.519926, -121.998597)},\n",
       " {'id': 41, 'location': (37.560755, -121.972956)},\n",
       " {'id': 75, 'location': (37.871723, -122.269028)},\n",
       " {'id': 83, 'location': (37.753901, -122.237396)},\n",
       " {'id': 99, 'location': (37.599559, -122.058114)},\n",
       " {'id': 34, 'location': (37.580134, -121.994963)},\n",
       " {'id': 32, 'location': (37.542961, -122.044259)},\n",
       " {'id': 95, 'location': (37.464017, -121.91155)},\n",
       " {'id': 3, 'location': (37.677208, -121.767749)},\n",
       " {'id': 42, 'location': (37.540259, -122.029592)},\n",
       " {'id': 51, 'location': (37.560049, -121.974676)},\n",
       " {'id': 53, 'location': (37.726882, -122.161101)},\n",
       " {'id': 43, 'location': (37.707506, -121.884913)},\n",
       " {'id': 81, 'location': (37.721056, -121.874614)},\n",
       " {'id': 97, 'location': (37.676393, -122.156629)},\n",
       " {'id': 69, 'location': (37.812686, -122.283014)},\n",
       " {'id': 22, 'location': (37.595134, -121.999554)},\n",
       " {'id': 91, 'location': (37.651316, -122.069338)},\n",
       " {'id': 90, 'location': (37.698685, -121.7167)},\n",
       " {'id': 30, 'location': (37.516978, -121.968892)},\n",
       " {'id': 86, 'location': (37.782118, -122.190198)},\n",
       " {'id': 98, 'location': (37.569168, -122.068867)},\n",
       " {'id': 85, 'location': (37.633316, -122.052338)},\n",
       " {'id': 92, 'location': (37.652181, -122.03029)},\n",
       " {'id': 68, 'location': (37.735422, -121.865349)},\n",
       " {'id': 63, 'location': (37.739022, -122.247367)},\n",
       " {'id': 64, 'location': (37.664124, -121.779266)},\n",
       " {'id': 23, 'location': (37.736413, -122.252682)},\n",
       " {'id': 21, 'location': (37.663917, -121.905736)},\n",
       " {'id': 1, 'location': (37.748005, -122.195114)},\n",
       " {'id': 44, 'location': (37.534343, -121.936628)},\n",
       " {'id': 45, 'location': (37.804336, -122.192309)},\n",
       " {'id': 49, 'location': (37.824181, -122.242649)},\n",
       " {'id': 37, 'location': (37.831245, -122.233017)},\n",
       " {'id': 93, 'location': (37.859865, -122.250359)},\n",
       " {'id': 36, 'location': (37.865321, -122.262931)},\n",
       " {'id': 82, 'location': (37.787253, -122.282513)},\n",
       " {'id': 40, 'location': (37.813917, -122.215336)},\n",
       " {'id': 62, 'location': (37.640735, -121.801383)}]"
      ]
     },
     "execution_count": 5,
     "metadata": {},
     "output_type": "execute_result"
    }
   ],
   "source": [
    "import pickle as pkl\n",
    "with open('houses.pkl','rb') as f:\n",
    "    houses = pkl.load(f)\n",
    "houses"
   ]
  },
  {
   "cell_type": "code",
   "execution_count": 6,
   "id": "a63f6598",
   "metadata": {},
   "outputs": [],
   "source": [
    "transit_stops = []\n",
    "for house in houses:\n",
    "    transits = []\n",
    "    results = gmaps.places_nearby(location=house['location'], radius=2000, type='transit_station')\n",
    "    for place in results['results']:\n",
    "        name = place['name']\n",
    "        latitude = place['geometry']['location']['lat']\n",
    "        longitude = place['geometry']['location']['lng']\n",
    "        transits.append({\"name\":name,\"location\":(latitude,longitude)})\n",
    "    transit_stops.append(transits)\n",
    "    "
   ]
  },
  {
   "cell_type": "code",
   "execution_count": 7,
   "id": "9b293702",
   "metadata": {},
   "outputs": [
    {
     "data": {
      "text/plain": [
       "20"
      ]
     },
     "execution_count": 7,
     "metadata": {},
     "output_type": "execute_result"
    }
   ],
   "source": [
    "len(transit_stops[0])"
   ]
  },
  {
   "cell_type": "markdown",
   "id": "a56613ea",
   "metadata": {},
   "source": [
    "## Best house using Average distance to transits "
   ]
  },
  {
   "cell_type": "code",
   "execution_count": 8,
   "id": "21c77f7c",
   "metadata": {},
   "outputs": [],
   "source": [
    "def get_average_distance(house_location, transit_stops, mode=\"walking\"):\n",
    "    total_distance = 0\n",
    "    for stop in transit_stops:\n",
    "        directions = gmaps.directions(house_location, stop[\"location\"], mode=mode)\n",
    "        if directions:\n",
    "            distance_meters = directions[0]['legs'][0]['distance']['value']\n",
    "            total_distance += distance_meters / 1609.34\n",
    "    return total_distance / len(transit_stops)"
   ]
  },
  {
   "cell_type": "code",
   "execution_count": 9,
   "id": "f3d9a973",
   "metadata": {},
   "outputs": [
    {
     "name": "stdout",
     "output_type": "stream",
     "text": [
      "    House_ID  avg_dist\n",
      "0         26  0.731014\n",
      "1          6  0.441579\n",
      "2         14  0.593007\n",
      "3         56  0.703549\n",
      "4         15  0.579896\n",
      "5         10  0.511732\n",
      "6         17  0.705165\n",
      "7         20  0.705165\n",
      "8         59  0.432227\n",
      "9          7  0.705165\n",
      "10         8  0.705165\n",
      "11        52  0.497129\n",
      "12         4  0.705165\n",
      "13        12  0.705165\n",
      "14        54  0.785136\n",
      "15        65  0.580673\n",
      "16        13  0.599718\n",
      "17         5  0.705165\n",
      "18        47  0.702369\n",
      "19        94  0.530155\n"
     ]
    }
   ],
   "source": [
    "house_distances = []\n",
    "for i, house in enumerate(houses):\n",
    "    if len(transit_stops[i]) == 0:  # If there are no transit stops found\n",
    "        avg_distance = None\n",
    "    else:\n",
    "        avg_distance = get_average_distance(house[\"location\"], transit_stops[i])\n",
    "    \n",
    "    house_distances.append({\"House_ID\": house[\"id\"], \"avg_dist\": avg_distance})\n",
    "\n",
    "df_dist = pd.DataFrame(house_distances)\n",
    "print(df_dist.head(20))"
   ]
  },
  {
   "cell_type": "code",
   "execution_count": 10,
   "id": "fc4dddfc",
   "metadata": {},
   "outputs": [
    {
     "data": {
      "text/plain": [
       "House_ID    23.000000\n",
       "avg_dist     0.401158\n",
       "Name: 88, dtype: float64"
      ]
     },
     "execution_count": 10,
     "metadata": {},
     "output_type": "execute_result"
    }
   ],
   "source": [
    "best_house = df_dist.loc[df_dist['avg_dist'].idxmin()]\n",
    "best_house"
   ]
  },
  {
   "cell_type": "code",
   "execution_count": null,
   "id": "8441bbe4",
   "metadata": {},
   "outputs": [],
   "source": []
  },
  {
   "cell_type": "markdown",
   "id": "a23d136c",
   "metadata": {},
   "source": [
    "## Best house using Weighted Average distance to transits "
   ]
  },
  {
   "cell_type": "code",
   "execution_count": 11,
   "id": "c8105714",
   "metadata": {},
   "outputs": [],
   "source": [
    "def get_weighted_distance(house_location, transit_stops, mode=\"walking\"):\n",
    "    total_weighted_distance = 0\n",
    "    total_weight = 0\n",
    "    for stop in transit_stops:\n",
    "        directions = gmaps.directions(house_location, stop[\"location\"], mode=mode)\n",
    "        if directions:\n",
    "            distance_meters = directions[0]['legs'][0]['distance']['value']\n",
    "            distance_miles = distance_meters / 1609.34 \n",
    "            weight = 1 / (distance_miles + 0.1)  # To avoid division by zero, adding a small constant\n",
    "            total_weighted_distance += distance_miles * weight\n",
    "            total_weight += weight\n",
    "    return total_weighted_distance / total_weight if total_weight > 0 else None"
   ]
  },
  {
   "cell_type": "code",
   "execution_count": 12,
   "id": "2fdc871f",
   "metadata": {},
   "outputs": [
    {
     "name": "stdout",
     "output_type": "stream",
     "text": [
      "    House_ID  weight_avg_dist\n",
      "0         26         0.338566\n",
      "1          6         0.365010\n",
      "2         14         0.470945\n",
      "3         56         0.513993\n",
      "4         15         0.510143\n",
      "5         10         0.381791\n",
      "6         17         0.522869\n",
      "7         20         0.522869\n",
      "8         59         0.330825\n",
      "9          7         0.522869\n",
      "10         8         0.522869\n",
      "11        52         0.238037\n",
      "12         4         0.522869\n",
      "13        12         0.522869\n",
      "14        54         0.665359\n",
      "15        65         0.431872\n",
      "16        13         0.485731\n",
      "17         5         0.522869\n",
      "18        47         0.509807\n",
      "19        94         0.317471\n"
     ]
    }
   ],
   "source": [
    "house_distances = []\n",
    "for i, house in enumerate(houses):\n",
    "    if len(transit_stops[i]) == 0:  # If there are no transit stops found\n",
    "        avg_distance = None\n",
    "    else:\n",
    "        avg_distance = get_weighted_distance(house[\"location\"], transit_stops[i])\n",
    "    \n",
    "    house_distances.append({\"House_ID\": house[\"id\"], \"weight_avg_dist\": avg_distance})\n",
    "\n",
    "df_dist = pd.DataFrame(house_distances)\n",
    "print(df_dist.head(20))"
   ]
  },
  {
   "cell_type": "code",
   "execution_count": 13,
   "id": "f7176232",
   "metadata": {},
   "outputs": [
    {
     "data": {
      "text/plain": [
       "House_ID           52.000000\n",
       "weight_avg_dist     0.238037\n",
       "Name: 11, dtype: float64"
      ]
     },
     "execution_count": 13,
     "metadata": {},
     "output_type": "execute_result"
    }
   ],
   "source": [
    "best_house = df_dist.loc[df_dist['weight_avg_dist'].idxmin()]\n",
    "best_house"
   ]
  },
  {
   "cell_type": "code",
   "execution_count": null,
   "id": "d029c896",
   "metadata": {},
   "outputs": [],
   "source": []
  },
  {
   "cell_type": "markdown",
   "id": "461fca48",
   "metadata": {},
   "source": [
    "## Best house using k-Nearest Neighbors to transits "
   ]
  },
  {
   "cell_type": "code",
   "execution_count": 14,
   "id": "98151c36",
   "metadata": {},
   "outputs": [],
   "source": [
    "from sklearn.neighbors import NearestNeighbors\n",
    "import numpy as np"
   ]
  },
  {
   "cell_type": "code",
   "execution_count": 15,
   "id": "01023656",
   "metadata": {},
   "outputs": [],
   "source": [
    "def get_total_distance(house_location, transit_stops, mode=\"walking\"):\n",
    "    distances = []\n",
    "    for stop in transit_stops:\n",
    "        directions = gmaps.directions(house_location, stop[\"location\"], mode=mode)\n",
    "        if directions:\n",
    "            distance_meters = directions[0]['legs'][0]['distance']['value']\n",
    "            distance_miles = distance_meters / 1609.34\n",
    "            distances.append(distance_miles)\n",
    "    return distances"
   ]
  },
  {
   "cell_type": "code",
   "execution_count": 16,
   "id": "ebdc585d",
   "metadata": {},
   "outputs": [],
   "source": [
    "house_distances = []\n",
    "for i, house in enumerate(houses):\n",
    "    if len(transit_stops[i]) == 0:  # If there are no transit stops found\n",
    "        distances = None\n",
    "    else:\n",
    "        distances = get_total_distance(house[\"location\"], transit_stops[i])\n",
    "    if distances is not None:\n",
    "        house_distances.append([i,distances])"
   ]
  },
  {
   "cell_type": "code",
   "execution_count": 17,
   "id": "06cfe871",
   "metadata": {},
   "outputs": [
    {
     "data": {
      "text/plain": [
       "[0,\n",
       " 1,\n",
       " 2,\n",
       " 3,\n",
       " 4,\n",
       " 5,\n",
       " 6,\n",
       " 7,\n",
       " 8,\n",
       " 9,\n",
       " 10,\n",
       " 11,\n",
       " 12,\n",
       " 13,\n",
       " 14,\n",
       " 15,\n",
       " 16,\n",
       " 17,\n",
       " 18,\n",
       " 19,\n",
       " 20,\n",
       " 21,\n",
       " 22,\n",
       " 23,\n",
       " 24,\n",
       " 25,\n",
       " 26,\n",
       " 27,\n",
       " 28,\n",
       " 29,\n",
       " 30,\n",
       " 31,\n",
       " 32,\n",
       " 33,\n",
       " 34,\n",
       " 35,\n",
       " 36,\n",
       " 37,\n",
       " 38,\n",
       " 39,\n",
       " 40,\n",
       " 41,\n",
       " 42,\n",
       " 43,\n",
       " 44,\n",
       " 45,\n",
       " 46,\n",
       " 47,\n",
       " 48,\n",
       " 49,\n",
       " 50,\n",
       " 51,\n",
       " 52,\n",
       " 53,\n",
       " 54,\n",
       " 55,\n",
       " 56,\n",
       " 57,\n",
       " 58,\n",
       " 59,\n",
       " 60,\n",
       " 61,\n",
       " 62,\n",
       " 63,\n",
       " 64,\n",
       " 65,\n",
       " 66,\n",
       " 67,\n",
       " 68,\n",
       " 69,\n",
       " 70,\n",
       " 71,\n",
       " 72,\n",
       " 73,\n",
       " 74,\n",
       " 75,\n",
       " 76,\n",
       " 77,\n",
       " 78,\n",
       " 79,\n",
       " 80,\n",
       " 81,\n",
       " 82,\n",
       " 83,\n",
       " 85,\n",
       " 86,\n",
       " 87,\n",
       " 88,\n",
       " 89,\n",
       " 90,\n",
       " 91,\n",
       " 92,\n",
       " 93,\n",
       " 94,\n",
       " 95,\n",
       " 96,\n",
       " 97,\n",
       " 98,\n",
       " 99]"
      ]
     },
     "execution_count": 17,
     "metadata": {},
     "output_type": "execute_result"
    }
   ],
   "source": [
    "final_prob_houses = [x[0] for x in house_distances]\n",
    "final_prob_houses"
   ]
  },
  {
   "cell_type": "code",
   "execution_count": 30,
   "id": "96ee2840",
   "metadata": {},
   "outputs": [],
   "source": [
    "final_house_distances = [x[1] for x in house_distances if (len(x[1]) == 20)] #A relaxation which includes the entries if they have at least 20 transit stops in their vicinity - this needs an edit\n",
    "X = np.array(final_house_distances)"
   ]
  },
  {
   "cell_type": "code",
   "execution_count": 31,
   "id": "135600fe",
   "metadata": {},
   "outputs": [
    {
     "data": {
      "text/plain": [
       "(97, 20)"
      ]
     },
     "execution_count": 31,
     "metadata": {},
     "output_type": "execute_result"
    }
   ],
   "source": [
    "X.shape"
   ]
  },
  {
   "cell_type": "code",
   "execution_count": 32,
   "id": "70322756",
   "metadata": {},
   "outputs": [],
   "source": [
    "# K-NN (for K=3)\n",
    "knn = NearestNeighbors(n_neighbors=3, metric='euclidean')\n",
    "knn.fit(X)\n",
    "distances, indices = knn.kneighbors(X)"
   ]
  },
  {
   "cell_type": "code",
   "execution_count": 33,
   "id": "50e4fb33",
   "metadata": {},
   "outputs": [
    {
     "data": {
      "text/plain": [
       "{'id': 17, 'location': (37.796753, -122.277016)}"
      ]
     },
     "execution_count": 33,
     "metadata": {},
     "output_type": "execute_result"
    }
   ],
   "source": [
    "average_distances = distances.mean(axis=1)\n",
    "best_house_idx = np.argmin(average_distances)\n",
    "best_house = houses[final_prob_houses[best_house_idx]]\n",
    "best_house"
   ]
  },
  {
   "cell_type": "code",
   "execution_count": null,
   "id": "f49487d3",
   "metadata": {},
   "outputs": [],
   "source": []
  }
 ],
 "metadata": {
  "kernelspec": {
   "display_name": "Python 3 (ipykernel)",
   "language": "python",
   "name": "python3"
  },
  "language_info": {
   "codemirror_mode": {
    "name": "ipython",
    "version": 3
   },
   "file_extension": ".py",
   "mimetype": "text/x-python",
   "name": "python",
   "nbconvert_exporter": "python",
   "pygments_lexer": "ipython3",
   "version": "3.11.5"
  }
 },
 "nbformat": 4,
 "nbformat_minor": 5
}
