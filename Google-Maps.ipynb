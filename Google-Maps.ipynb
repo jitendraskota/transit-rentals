{
 "cells": [
  {
   "cell_type": "code",
   "execution_count": 1,
   "id": "30d2dc1f",
   "metadata": {},
   "outputs": [],
   "source": [
    "import googlemaps\n",
    "import pandas as pd"
   ]
  },
  {
   "cell_type": "code",
   "execution_count": null,
   "id": "0a854347",
   "metadata": {},
   "outputs": [],
   "source": [
    "API_KEY = 'GET-YOUR-KEY'"
   ]
  },
  {
   "cell_type": "markdown",
   "id": "febdd49b",
   "metadata": {},
   "source": [
    "## Extracting the closest transit spots within 2000 meters"
   ]
  },
  {
   "cell_type": "code",
   "execution_count": 3,
   "id": "7683a084",
   "metadata": {},
   "outputs": [],
   "source": [
    "# Initialize the Google Maps client\n",
    "gmaps = googlemaps.Client(key=API_KEY)\n",
    "\n",
    "# Example location\n",
    "location = (33.7490, -84.3880)\n",
    "\n",
    "results = gmaps.places_nearby(location=location, radius=2000, type='transit_station')\n",
    "data = []\n",
    "\n",
    "# Loop through each place and calculate driving distance\n",
    "for place in results['results']:\n",
    "    name = place['name']\n",
    "    address = place.get('vicinity', 'Address not available')\n",
    "    latitude = place['geometry']['location']['lat']\n",
    "    longitude = place['geometry']['location']['lng']\n",
    "    \n",
    "    # Get directions from home_location to the transit stop\n",
    "    directions = gmaps.directions(location, (latitude, longitude), mode=\"walking\")\n",
    "    \n",
    "    # Get the distance from the directions response\n",
    "    if directions:\n",
    "        distance_meters = directions[0]['legs'][0]['distance']['value']\n",
    "        distance_miles = distance_meters / 1609.34  # Convert meters to miles\n",
    "    else:\n",
    "        distance_miles = None\n",
    "    \n",
    "    data.append([name, address, latitude, longitude, distance_miles])\n",
    "\n",
    "df = pd.DataFrame(data, columns=['Name', 'Address', 'Latitude', 'Longitude', 'Walking_Distance_miles'])\n",
    "df.to_csv(\"transit_stops_with_walking_distance_miles.csv\", index=False)\n"
   ]
  },
  {
   "cell_type": "code",
   "execution_count": 22,
   "id": "e8878549",
   "metadata": {},
   "outputs": [],
   "source": [
    "#5 different potential rental houses\n",
    "houses = [\n",
    "    {\"id\": 1, \"location\": (33.7490, -84.3880)}, \n",
    "    {\"id\": 2, \"location\": (34.0375, -84.5751)},\n",
    "    {\"id\": 3, \"location\": (34.7530, -84.3870)}, \n",
    "    {\"id\": 4, \"location\": (33.7550, -84.3890)},\n",
    "    {\"id\": 5, \"location\": (33.7570, -85.3860)} \n",
    "]"
   ]
  },
  {
   "cell_type": "code",
   "execution_count": 23,
   "id": "0ca7eba1",
   "metadata": {},
   "outputs": [],
   "source": [
    "transit_stops = []\n",
    "for house in houses:\n",
    "    transits = []\n",
    "    results = gmaps.places_nearby(location=house['location'], radius=2000, type='transit_station')\n",
    "    for place in results['results']:\n",
    "        name = place['name']\n",
    "        latitude = place['geometry']['location']['lat']\n",
    "        longitude = place['geometry']['location']['lng']\n",
    "        transits.append({\"name\":name,\"location\":(latitude,longitude)})\n",
    "    transit_stops.append(transits)\n",
    "    "
   ]
  },
  {
   "cell_type": "code",
   "execution_count": 24,
   "id": "b06f5b12",
   "metadata": {},
   "outputs": [
    {
     "data": {
      "text/plain": [
       "20"
      ]
     },
     "execution_count": 24,
     "metadata": {},
     "output_type": "execute_result"
    }
   ],
   "source": [
    "len(transit_stops[0])"
   ]
  },
  {
   "cell_type": "markdown",
   "id": "89ed7f29",
   "metadata": {},
   "source": [
    "## Best house using Average distance to transits "
   ]
  },
  {
   "cell_type": "code",
   "execution_count": 25,
   "id": "9b1802ba",
   "metadata": {},
   "outputs": [],
   "source": [
    "def get_average_distance(house_location, transit_stops, mode=\"walking\"):\n",
    "    total_distance = 0\n",
    "    for stop in transit_stops:\n",
    "        directions = gmaps.directions(house_location, stop[\"location\"], mode=mode)\n",
    "        if directions:\n",
    "            distance_meters = directions[0]['legs'][0]['distance']['value']\n",
    "            total_distance += distance_meters / 1609.34\n",
    "    return total_distance / len(transit_stops)"
   ]
  },
  {
   "cell_type": "code",
   "execution_count": 28,
   "id": "015322f7",
   "metadata": {},
   "outputs": [
    {
     "name": "stdout",
     "output_type": "stream",
     "text": [
      "   House_ID  avg_dist\n",
      "0         1  0.713429\n",
      "1         2  0.694104\n",
      "2         3       NaN\n",
      "3         4  0.561938\n",
      "4         5       NaN\n"
     ]
    }
   ],
   "source": [
    "house_distances = []\n",
    "for i, house in enumerate(houses):\n",
    "    if len(transit_stops[i]) == 0:  # If there are no transit stops found\n",
    "        avg_distance = None\n",
    "    else:\n",
    "        avg_distance = get_average_distance(house[\"location\"], transit_stops[i])\n",
    "    \n",
    "    house_distances.append({\"House_ID\": house[\"id\"], \"avg_dist\": avg_distance})\n",
    "\n",
    "df_dist = pd.DataFrame(house_distances)\n",
    "print(df_dist.head(20))"
   ]
  },
  {
   "cell_type": "code",
   "execution_count": 31,
   "id": "fe719939",
   "metadata": {},
   "outputs": [
    {
     "data": {
      "text/plain": [
       "House_ID    4.000000\n",
       "avg_dist    0.561938\n",
       "Name: 3, dtype: float64"
      ]
     },
     "execution_count": 31,
     "metadata": {},
     "output_type": "execute_result"
    }
   ],
   "source": [
    "best_house = df_dist.loc[df_dist['avg_dist'].idxmin()]\n",
    "best_house"
   ]
  },
  {
   "cell_type": "code",
   "execution_count": null,
   "id": "aee849a0",
   "metadata": {},
   "outputs": [],
   "source": []
  },
  {
   "cell_type": "markdown",
   "id": "fc1e5954",
   "metadata": {},
   "source": [
    "## Best house using Weighted Average distance to transits "
   ]
  },
  {
   "cell_type": "code",
   "execution_count": 33,
   "id": "bad0bf5a",
   "metadata": {},
   "outputs": [],
   "source": [
    "def get_weighted_distance(house_location, transit_stops, mode=\"walking\"):\n",
    "    total_weighted_distance = 0\n",
    "    total_weight = 0\n",
    "    for stop in transit_stops:\n",
    "        directions = gmaps.directions(house_location, stop[\"location\"], mode=mode)\n",
    "        if directions:\n",
    "            distance_meters = directions[0]['legs'][0]['distance']['value']\n",
    "            distance_miles = distance_meters / 1609.34 \n",
    "            weight = 1 / (distance_miles + 0.1)  # To avoid division by zero, adding a small constant\n",
    "            total_weighted_distance += distance_miles * weight\n",
    "            total_weight += weight\n",
    "    return total_weighted_distance / total_weight if total_weight > 0 else None"
   ]
  },
  {
   "cell_type": "code",
   "execution_count": 37,
   "id": "3e3d60ad",
   "metadata": {},
   "outputs": [
    {
     "name": "stdout",
     "output_type": "stream",
     "text": [
      "   House_ID  weight_avg_dist\n",
      "0         1         0.533513\n",
      "1         2         0.475245\n",
      "2         3              NaN\n",
      "3         4         0.437761\n",
      "4         5              NaN\n"
     ]
    }
   ],
   "source": [
    "house_distances = []\n",
    "for i, house in enumerate(houses):\n",
    "    if len(transit_stops[i]) == 0:  # If there are no transit stops found\n",
    "        avg_distance = None\n",
    "    else:\n",
    "        avg_distance = get_weighted_distance(house[\"location\"], transit_stops[i])\n",
    "    \n",
    "    house_distances.append({\"House_ID\": house[\"id\"], \"weight_avg_dist\": avg_distance})\n",
    "\n",
    "df_dist = pd.DataFrame(house_distances)\n",
    "print(df_dist.head(20))"
   ]
  },
  {
   "cell_type": "code",
   "execution_count": 38,
   "id": "10763cc2",
   "metadata": {},
   "outputs": [
    {
     "data": {
      "text/plain": [
       "House_ID           4.000000\n",
       "weight_avg_dist    0.437761\n",
       "Name: 3, dtype: float64"
      ]
     },
     "execution_count": 38,
     "metadata": {},
     "output_type": "execute_result"
    }
   ],
   "source": [
    "best_house = df_dist.loc[df_dist['weight_avg_dist'].idxmin()]\n",
    "best_house"
   ]
  },
  {
   "cell_type": "code",
   "execution_count": null,
   "id": "89f3c8d0",
   "metadata": {},
   "outputs": [],
   "source": []
  },
  {
   "cell_type": "markdown",
   "id": "a2b9fff8",
   "metadata": {},
   "source": [
    "## Best house using k-Nearest Neighbors to transits "
   ]
  },
  {
   "cell_type": "code",
   "execution_count": 40,
   "id": "4afb7ec6",
   "metadata": {},
   "outputs": [],
   "source": [
    "from sklearn.neighbors import NearestNeighbors\n",
    "import numpy as np"
   ]
  },
  {
   "cell_type": "code",
   "execution_count": 46,
   "id": "ab5e3429",
   "metadata": {},
   "outputs": [],
   "source": [
    "def get_total_distance(house_location, transit_stops, mode=\"walking\"):\n",
    "    distances = []\n",
    "    for stop in transit_stops:\n",
    "        directions = gmaps.directions(house_location, stop[\"location\"], mode=mode)\n",
    "        if directions:\n",
    "            distance_meters = directions[0]['legs'][0]['distance']['value']\n",
    "            distance_miles = distance_meters / 1609.34\n",
    "            distances.append(distance_miles)\n",
    "    return distances"
   ]
  },
  {
   "cell_type": "code",
   "execution_count": 84,
   "id": "8f4cdf26",
   "metadata": {},
   "outputs": [],
   "source": [
    "house_distances = []\n",
    "for i, house in enumerate(houses):\n",
    "    if len(transit_stops[i]) == 0:  # If there are no transit stops found\n",
    "        distances = None\n",
    "    else:\n",
    "        distances = get_total_distance(house[\"location\"], transit_stops[i])\n",
    "    if distances is not None:\n",
    "        house_distances.append([i,distances])"
   ]
  },
  {
   "cell_type": "code",
   "execution_count": 90,
   "id": "57b268da",
   "metadata": {},
   "outputs": [
    {
     "data": {
      "text/plain": [
       "[0, 1, 3]"
      ]
     },
     "execution_count": 90,
     "metadata": {},
     "output_type": "execute_result"
    }
   ],
   "source": [
    "final_prob_houses = [x[0] for x in house_distances]\n",
    "final_prob_houses"
   ]
  },
  {
   "cell_type": "code",
   "execution_count": 91,
   "id": "3afe29f4",
   "metadata": {},
   "outputs": [],
   "source": [
    "final_house_distances = [x[1] for x in house_distances]\n",
    "X = np.array(final_house_distances)"
   ]
  },
  {
   "cell_type": "code",
   "execution_count": 92,
   "id": "88de6daa",
   "metadata": {},
   "outputs": [],
   "source": [
    "# K-NN (for K=3)\n",
    "knn = NearestNeighbors(n_neighbors=3, metric='euclidean')\n",
    "knn.fit(X)\n",
    "distances, indices = knn.kneighbors(X)"
   ]
  },
  {
   "cell_type": "code",
   "execution_count": 97,
   "id": "d86b0633",
   "metadata": {},
   "outputs": [
    {
     "data": {
      "text/plain": [
       "{'id': 4, 'location': (33.755, -84.389)}"
      ]
     },
     "execution_count": 97,
     "metadata": {},
     "output_type": "execute_result"
    }
   ],
   "source": [
    "average_distances = distances.mean(axis=1)\n",
    "best_house_idx = np.argmin(average_distances)\n",
    "best_house = houses[final_prob_houses[best_house_idx]]\n",
    "best_house"
   ]
  },
  {
   "cell_type": "code",
   "execution_count": null,
   "id": "6bfa12b6",
   "metadata": {},
   "outputs": [],
   "source": []
  }
 ],
 "metadata": {
  "kernelspec": {
   "display_name": "Python 3 (ipykernel)",
   "language": "python",
   "name": "python3"
  },
  "language_info": {
   "codemirror_mode": {
    "name": "ipython",
    "version": 3
   },
   "file_extension": ".py",
   "mimetype": "text/x-python",
   "name": "python",
   "nbconvert_exporter": "python",
   "pygments_lexer": "ipython3",
   "version": "3.11.5"
  }
 },
 "nbformat": 4,
 "nbformat_minor": 5
}
